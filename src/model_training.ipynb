{
 "cells": [
  {
   "cell_type": "markdown",
   "id": "b8de3bc7",
   "metadata": {},
   "source": [
    "# Training and Evaluation Module"
   ]
  },
  {
   "cell_type": "markdown",
   "id": "d1a93d3a",
   "metadata": {},
   "source": [
    "## Libraries"
   ]
  },
  {
   "cell_type": "code",
   "execution_count": 1,
   "id": "acef39f4",
   "metadata": {},
   "outputs": [],
   "source": [
    "import json\n",
    "import numpy as np\n",
    "from tqdm import tqdm\n",
    "import torch\n",
    "import torch.nn as nn\n",
    "import torch.optim as optim\n",
    "from torch.utils.data import DataLoader, Dataset\n",
    "from sklearn.metrics import classification_report\n",
    "from utils.logger import get_logger\n",
    "import matplotlib.pyplot as plt\n",
    "from sklearn.metrics import confusion_matrix, ConfusionMatrixDisplay\n",
    "import seaborn as sns\n",
    "from torch.optim.lr_scheduler import StepLR"
   ]
  },
  {
   "cell_type": "markdown",
   "id": "75233f42",
   "metadata": {},
   "source": [
    "## Logger Config"
   ]
  },
  {
   "cell_type": "code",
   "execution_count": 2,
   "id": "6456ad48",
   "metadata": {},
   "outputs": [],
   "source": [
    "# Logger setup\n",
    "logger = get_logger(__name__)"
   ]
  },
  {
   "cell_type": "markdown",
   "id": "47f1849c",
   "metadata": {},
   "source": [
    "## CUDA setup"
   ]
  },
  {
   "cell_type": "code",
   "execution_count": 3,
   "id": "52312fe5",
   "metadata": {},
   "outputs": [
    {
     "name": "stderr",
     "output_type": "stream",
     "text": [
      "[INFO] Device Detected: NVIDIA GeForce RTX 3070 Ti Laptop GPU\n",
      "[INFO] Using a cuda device\n"
     ]
    }
   ],
   "source": [
    "device = torch.device(\"cuda\" if torch.cuda.is_available() else \"cpu\")\n",
    "logger.info(f\"Device Detected: {torch.cuda.get_device_name(0) if torch.cuda.is_available() else 'CPU'}\")\n",
    "logger.info(f\"Using a {device} device\")"
   ]
  },
  {
   "cell_type": "markdown",
   "id": "82b882aa",
   "metadata": {},
   "source": [
    "## Load Label Map"
   ]
  },
  {
   "cell_type": "code",
   "execution_count": 4,
   "id": "60d14568",
   "metadata": {},
   "outputs": [
    {
     "name": "stderr",
     "output_type": "stream",
     "text": [
      "[INFO] Label map loaded with 5 labels\n",
      "[INFO] Inverse label map created with 5 labels\n"
     ]
    }
   ],
   "source": [
    "with open(\"../data/processed/label_map.json\", \"r\") as f:\n",
    "    label_map = json.load(f)\n",
    "    logger.info(f\"Label map loaded with {len(label_map)} labels\")\n",
    "\n",
    "inv_label_map = {v: k for k, v in label_map.items()}\n",
    "logger.info(f\"Inverse label map created with {len(inv_label_map)} labels\")"
   ]
  },
  {
   "cell_type": "markdown",
   "id": "10fb271d",
   "metadata": {},
   "source": [
    "## Dataset & Dataloaders"
   ]
  },
  {
   "cell_type": "code",
   "execution_count": 5,
   "id": "66d114d9",
   "metadata": {},
   "outputs": [],
   "source": [
    "class FacialLandmarksDataset(Dataset):\n",
    "    \"\"\"\n",
    "    Custom Dataset for loading facial landmarks data from a .npz file.\n",
    "    This dataset expects the .npz file to contain 'features' and 'labels' arrays.\n",
    "    \"\"\"\n",
    "    def __init__(self, path_npz):\n",
    "        data = np.load(path_npz)\n",
    "        self.features = torch.tensor(data[\"features\"], dtype=torch.float32)\n",
    "        self.labels = torch.tensor(data[\"labels\"], dtype=torch.long)\n",
    "\n",
    "    def __len__(self):\n",
    "        return len(self.features)\n",
    "\n",
    "    def __getitem__(self, idx):\n",
    "        return self.features[idx], self.labels[idx]"
   ]
  },
  {
   "cell_type": "code",
   "execution_count": 6,
   "id": "cb7c27f0",
   "metadata": {},
   "outputs": [],
   "source": [
    "# Hyperparameters\n",
    "batch_size = 64\n",
    "\n",
    "# Load datasets made with dataset builder script\n",
    "train_dataset = FacialLandmarksDataset(\"../data/processed/train.npz\")\n",
    "test_dataset = FacialLandmarksDataset(\"../data/processed/test.npz\")\n",
    "\n",
    "# Create DataLoaders for training and testing datasets\n",
    "train_loader = DataLoader(train_dataset, batch_size=batch_size, shuffle=True)\n",
    "test_loader = DataLoader(test_dataset, batch_size=batch_size)"
   ]
  },
  {
   "cell_type": "markdown",
   "id": "9f936fe3",
   "metadata": {},
   "source": [
    "## MLP Model for emotion classification"
   ]
  },
  {
   "cell_type": "code",
   "execution_count": 7,
   "id": "f2010440",
   "metadata": {},
   "outputs": [],
   "source": [
    "class EmotionClassifier(nn.Module):\n",
    "    \"\"\"\n",
    "    A simple feedforward neural network for emotion classification based on facial landmarks.\n",
    "    The network consists of two hidden layers with ReLU activations and dropout for regularization.\n",
    "\n",
    "    The input dimension is set to 1434, which corresponds to the flattened facial landmarks,\n",
    "    and the output dimension is set to 5, corresponding to the number of emotion classes.\n",
    "    \"\"\"\n",
    "    def __init__(self, input_dim=1434, hidden_dim=512, num_classes=5):\n",
    "        super().__init__()\n",
    "        self.net = nn.Sequential(\n",
    "            nn.Linear(input_dim, hidden_dim),\n",
    "            nn.BatchNorm1d(hidden_dim),\n",
    "            nn.ReLU(),\n",
    "            nn.Dropout(0.2),\n",
    "\n",
    "            nn.Linear(hidden_dim, hidden_dim // 2),\n",
    "            nn.BatchNorm1d(hidden_dim // 2),\n",
    "            nn.ReLU(),\n",
    "\n",
    "            nn.Linear(hidden_dim // 2, num_classes)\n",
    "        )\n",
    "\n",
    "    def forward(self, x):\n",
    "        return self.net(x)"
   ]
  },
  {
   "cell_type": "markdown",
   "id": "9d188cd5",
   "metadata": {},
   "source": [
    "Se aplica Batch Normalization para estabilizar la distribución de activaciones, lo que permite un entrenamiento más rápido y robusto. Que en este caso evita que se sobre-entren el modelo a favor de la clase `happiness` sin perder desempeño."
   ]
  },
  {
   "cell_type": "code",
   "execution_count": 8,
   "id": "738c2eac",
   "metadata": {},
   "outputs": [],
   "source": [
    "# Initialize the model, loss function, and optimizer\n",
    "model = EmotionClassifier().to(device)\n",
    "# Highly imbalanced dataset, using class weights to balance the loss function\n",
    "weights = torch.tensor([1.2, 0.8, 1.4, 1.6, 1.0], dtype=torch.float32).to(device)\n",
    "criterion = nn.CrossEntropyLoss(weight=weights)\n",
    "optimizer = optim.AdamW(model.parameters(), lr=1e-4, weight_decay=1e-3)\n",
    "scheduler = StepLR(optimizer, step_size=10, gamma=0.5)"
   ]
  },
  {
   "cell_type": "markdown",
   "id": "7303a779",
   "metadata": {},
   "source": [
    "Se aplica CrossEntropy con pesos para obligar al modelo a tomar más importancia a las clases como `sadness` o `anger` que tienen menos variedad de expresiones a pesar de ser un dataset balanceado.\n",
    "\n",
    "Se aplica un Scheduler StepLR para reducir gradualmente el learning rate del modelo teniendo un ajuste mas fino y evitar estancamiento del modelo."
   ]
  },
  {
   "cell_type": "markdown",
   "id": "0bf83b0a",
   "metadata": {},
   "source": [
    "### Training Loop"
   ]
  },
  {
   "cell_type": "code",
   "execution_count": 9,
   "id": "a8342195",
   "metadata": {},
   "outputs": [],
   "source": [
    "def train_model(model, loader, optimizer, criterion, epochs=20):\n",
    "    \"\"\"\n",
    "    Train the model using the provided DataLoader, optimizer, and loss function.\n",
    "    The training process runs for a specified number of epochs, updating the model weights\n",
    "    based on the computed loss for each batch of data.\n",
    "\n",
    "    Args:\n",
    "        model (nn.Module): The neural network model to train.\n",
    "        loader (DataLoader): DataLoader providing the training data.\n",
    "        optimizer (torch.optim.Optimizer): Optimizer for updating model weights.\n",
    "        criterion (nn.Module): Loss function to compute the loss.\n",
    "        epochs (int): Number of epochs to train the model.\n",
    "    \n",
    "    Returns:\n",
    "        None\n",
    "    \"\"\"\n",
    "    # Set the model to training mode\n",
    "    model.train()\n",
    "\n",
    "    # Loop through the specified number of epochs\n",
    "    for epoch in range(epochs):\n",
    "        # Initialize the running loss for the epoch\n",
    "        running_loss = 0.0\n",
    "        # Configure tqdm for progress tracking\n",
    "        loop = tqdm(loader, desc=f\"Epoch [{epoch+1}/{epochs}]\", leave=False)\n",
    "\n",
    "        # Iterate over the DataLoader to get batches of data\n",
    "        for features, labels in loop:\n",
    "            # Move features and labels to the appropriate device (GPU/CPU)\n",
    "            features, labels = features.to(device), labels.to(device)\n",
    "            optimizer.zero_grad()\n",
    "            outputs = model(features)\n",
    "            loss = criterion(outputs, labels)\n",
    "            loss.backward()\n",
    "            optimizer.step()\n",
    "            running_loss += loss.item()\n",
    "\n",
    "            # Update the tqdm loop description with the current loss\n",
    "            loop.set_postfix(loss=loss.item())\n",
    "\n",
    "        # Log the average loss for the epoch\n",
    "        avg_loss = running_loss / len(loader)\n",
    "        if (epoch == 0) or ((epoch + 1) % 5 == 0) or (epoch + 1 == epochs):\n",
    "            logger.info(f\"Epoch {epoch+1}/{epochs}, Avg Loss: {avg_loss:.4f}\")\n",
    "        \n",
    "        # Step the learning rate scheduler        \n",
    "        scheduler.step()"
   ]
  },
  {
   "cell_type": "markdown",
   "id": "74bd79a4",
   "metadata": {},
   "source": [
    "### Evaluation Loop"
   ]
  },
  {
   "cell_type": "code",
   "execution_count": 10,
   "id": "4fe408f1",
   "metadata": {},
   "outputs": [],
   "source": [
    "def evaluate_model(model, loader):\n",
    "    \"\"\"\n",
    "    Evaluate the model on the provided DataLoader and print a classification report.\n",
    "    This function computes the model's predictions on the dataset and compares them to the true labels,\n",
    "    generating a classification report that includes precision, recall, and F1-score for each class.\n",
    "\n",
    "    Args:\n",
    "        model (nn.Module): The trained neural network model to evaluate.\n",
    "        loader (DataLoader): DataLoader providing the evaluation data.\n",
    "\n",
    "    Returns:\n",
    "        None\n",
    "    \"\"\"\n",
    "    # Set the model to evaluation mode\n",
    "    model.eval()\n",
    "    # Initialize lists to store predictions and true labels\n",
    "    all_preds, all_labels = [], []\n",
    "    logger.info(\"Evaluating model...\")\n",
    "    # Disable gradient computation for evaluation\n",
    "    with torch.no_grad():\n",
    "        # Iterate over the DataLoader to get batches of data\n",
    "        for features, labels in loader:\n",
    "            # Move features and labels to the appropriate device (GPU/CPU)\n",
    "            features = features.to(device)\n",
    "            outputs = model(features)\n",
    "            preds = outputs.argmax(dim=1).cpu().numpy()\n",
    "            all_preds.extend(preds)\n",
    "            all_labels.extend(labels.numpy())\n",
    "    logger.info(\"Evaluation complete.\\n\")\n",
    "    # print the classification report\n",
    "    print(classification_report(all_labels, all_preds, target_names=label_map.values()))\n",
    "\n",
    "    return all_preds, all_labels"
   ]
  },
  {
   "cell_type": "markdown",
   "id": "f886557d",
   "metadata": {},
   "source": [
    "## Visualizations"
   ]
  },
  {
   "cell_type": "code",
   "execution_count": 11,
   "id": "33f6eda7",
   "metadata": {},
   "outputs": [],
   "source": [
    "def plot_confusion_matrix(y_true, y_pred, class_names, normalize=True):\n",
    "    \"\"\"\n",
    "    Plot a confusion matrix using seaborn heatmap.\n",
    "    This function computes the confusion matrix from the true labels and predicted labels,\n",
    "    and visualizes it using a heatmap. The confusion matrix can be normalized to show \n",
    "    proportions instead of raw counts.\n",
    "\n",
    "    Args:\n",
    "        y_true (list): True labels of the dataset.\n",
    "        y_pred (list): Predicted labels from the model.\n",
    "        class_names (list): List of class names corresponding to the labels.\n",
    "        normalize (bool): Whether to normalize the confusion matrix.\n",
    "\n",
    "    Returns:\n",
    "        None\n",
    "    \"\"\"\n",
    "    cm = confusion_matrix(y_true, y_pred)\n",
    "    if normalize:\n",
    "        cm = cm.astype(\"float\") / cm.sum(axis=1)[:, np.newaxis]\n",
    "\n",
    "    plt.figure(figsize=(8, 6))\n",
    "    sns.heatmap(cm, annot=True, fmt=\".2f\" if normalize else \"d\",\n",
    "                cmap=\"Blues\", xticklabels=class_names,\n",
    "                yticklabels=class_names)\n",
    "    plt.ylabel(\"True Label\")\n",
    "    plt.xlabel(\"Predicted Label\")\n",
    "    plt.title(\"Confusion Matrix\" + (\" (Normalized)\" if normalize else \"\"))\n",
    "    plt.tight_layout()\n",
    "    plt.show()"
   ]
  },
  {
   "cell_type": "markdown",
   "id": "ba3ea5af",
   "metadata": {},
   "source": [
    "## Training and Evaluation"
   ]
  },
  {
   "cell_type": "code",
   "execution_count": 12,
   "id": "74975c85",
   "metadata": {},
   "outputs": [
    {
     "name": "stderr",
     "output_type": "stream",
     "text": [
      "[INFO] Epoch 1/100, Avg Loss: 1.2346                                        \n",
      "[INFO] Epoch 5/100, Avg Loss: 0.9295                                        \n",
      "[INFO] Epoch 10/100, Avg Loss: 0.8595                                        \n",
      "[INFO] Epoch 15/100, Avg Loss: 0.7996                                        \n",
      "[INFO] Epoch 20/100, Avg Loss: 0.7642                                        \n",
      "[INFO] Epoch 25/100, Avg Loss: 0.7292                                        \n",
      "[INFO] Epoch 30/100, Avg Loss: 0.7185                                        \n",
      "[INFO] Epoch 35/100, Avg Loss: 0.7031                                        \n",
      "[INFO] Epoch 40/100, Avg Loss: 0.6993                                        \n",
      "[INFO] Epoch 45/100, Avg Loss: 0.6837                                        \n",
      "[INFO] Epoch 50/100, Avg Loss: 0.6837                                        \n",
      "[INFO] Epoch 55/100, Avg Loss: 0.6768                                        \n",
      "[INFO] Epoch 60/100, Avg Loss: 0.6752                                        \n",
      "[INFO] Epoch 65/100, Avg Loss: 0.6765                                        \n",
      "[INFO] Epoch 70/100, Avg Loss: 0.6707                                        \n",
      "[INFO] Epoch 75/100, Avg Loss: 0.6660                                        \n",
      "[INFO] Epoch 80/100, Avg Loss: 0.6669                                        \n",
      "[INFO] Epoch 85/100, Avg Loss: 0.6657                                        \n",
      "[INFO] Epoch 90/100, Avg Loss: 0.6696                                        \n",
      "[INFO] Epoch 95/100, Avg Loss: 0.6632                                        \n",
      "[INFO] Epoch 100/100, Avg Loss: 0.6702                                        \n"
     ]
    }
   ],
   "source": [
    "train_model(model, train_loader, optimizer, criterion, epochs=100)"
   ]
  },
  {
   "cell_type": "code",
   "execution_count": 13,
   "id": "4938c8c5",
   "metadata": {},
   "outputs": [
    {
     "name": "stderr",
     "output_type": "stream",
     "text": [
      "[INFO] Evaluating model...\n",
      "[INFO] Evaluation complete.\n",
      "\n"
     ]
    },
    {
     "name": "stdout",
     "output_type": "stream",
     "text": [
      "              precision    recall  f1-score   support\n",
      "\n",
      "       anger       0.51      0.74      0.60       428\n",
      "   happiness       0.92      0.78      0.85      1601\n",
      "     neutral       0.84      0.63      0.72      2099\n",
      "     sadness       0.36      0.65      0.47       592\n",
      "    surprise       0.74      0.82      0.78       722\n",
      "\n",
      "    accuracy                           0.71      5442\n",
      "   macro avg       0.67      0.73      0.68      5442\n",
      "weighted avg       0.77      0.71      0.73      5442\n",
      "\n"
     ]
    }
   ],
   "source": [
    "predictions, labels = evaluate_model(model, test_loader)"
   ]
  },
  {
   "cell_type": "code",
   "execution_count": 14,
   "id": "7af1746a",
   "metadata": {},
   "outputs": [
    {
     "data": {
      "image/png": "[encoded data removed]",
      "text/plain": [
       "<Figure size 800x600 with 2 Axes>"
      ]
     },
     "metadata": {},
     "output_type": "display_data"
    }
   ],
   "source": [
    "plot_confusion_matrix(labels, predictions, list(label_map.values()), normalize=True)"
   ]
  },
  {
   "cell_type": "markdown",
   "id": "5590cdf1",
   "metadata": {},
   "source": [
    "## Saving the model"
   ]
  },
  {
   "cell_type": "code",
   "execution_count": 15,
   "id": "256139a9",
   "metadata": {},
   "outputs": [
    {
     "name": "stderr",
     "output_type": "stream",
     "text": [
      "[INFO] Model saved to emotion_model.pth\n"
     ]
    }
   ],
   "source": [
    "torch.save(model.state_dict(), \"models/pytorch/emotion_model.pth\")\n",
    "logger.info(\"Model saved to emotion_model.pth\")"
   ]
  }
 ],
 "metadata": {
  "kernelspec": {
   "display_name": "FER",
   "language": "python",
   "name": "python3"
  },
  "language_info": {
   "codemirror_mode": {
    "name": "ipython",
    "version": 3
   },
   "file_extension": ".py",
   "mimetype": "text/x-python",
   "name": "python",
   "nbconvert_exporter": "python",
   "pygments_lexer": "ipython3",
   "version": "3.12.9"
  }
 },
 "nbformat": 4,
 "nbformat_minor": 5
}
